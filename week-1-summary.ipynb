{
 "cells": [
  {
   "cell_type": "markdown",
   "id": "f5699a71",
   "metadata": {
    "tags": []
   },
   "source": [
    "# Week 1 Summary\n",
    "> NAME: $\\color{red}{\\text{    Daniel Tran     }}$\n",
    "> \n",
    "> PID: $\\color{red}{\\text{    A17578274     }}$\n",
    ">\n",
    "> \n",
    "---"
   ]
  },
  {
   "cell_type": "markdown",
   "id": "b0e61ba4-c23c-44b6-8933-ad5c5013a12d",
   "metadata": {},
   "source": [
    "I certify that the following write-up is my own work, and have abided by the UCSD Academic Integrity Guidelines.\n",
    "\n",
    "- [x] Yes\n",
    "- [ ] No"
   ]
  },
  {
   "cell_type": "markdown",
   "id": "2e3d69d4-fc3b-467c-867a-232ea44b034d",
   "metadata": {},
   "source": [
    "---"
   ]
  },
  {
   "cell_type": "markdown",
   "id": "de700466",
   "metadata": {},
   "source": [
    "## Key Takeaways from Week 1"
   ]
  },
  {
   "cell_type": "markdown",
   "id": "e89169e3",
   "metadata": {},
   "source": [
    "\n",
    "#### Tuesday: \n",
    "Tuesday's lecture was more of an introduction to the class and soome general history behind the subject. We also had a brief introduction into designing experiments which included figuring out the cleanest possible ways to make our experiments so that they are easier to follow. Next, we moved onto a general uses that we can use experiments on such as A/B testing or different studies. Finally we went over the syllabus, how to navigate the canvas page, an introduction to the course project and the Academic Integriry and Collaboration policy."
   ]
  },
  {
   "cell_type": "markdown",
   "id": "29081a6f",
   "metadata": {},
   "source": [
    "#### Thursday\n",
    "\n",
    "We did learn some of the basics of markdown which included creating bullet lists, numbered lists, and how to incorperate LaTex into our markdown cells. After learning some markdown, we covered some basic LaTex like how to write in LaTex, how to so minor functions to improve readibility such as align and color. Finally we introduced the coding aspect of this class which would be mainly in python, thus we covered some python coding incase other students do not know python. Finally we ended off with some linear algebra review\n"
   ]
  },
  {
   "cell_type": "markdown",
   "id": "5928a1a1",
   "metadata": {},
   "source": [
    "---"
   ]
  },
  {
   "cell_type": "markdown",
   "id": "d9ac3593",
   "metadata": {},
   "source": [
    "## Tue, Apr 2nd"
   ]
  },
  {
   "cell_type": "markdown",
   "id": "50aa8ef5",
   "metadata": {},
   "source": [
    "### Basics of markdown"
   ]
  },
  {
   "cell_type": "markdown",
   "id": "aa7c1972",
   "metadata": {},
   "source": [
    "**Bullet Lists and Numbered Lists**"
   ]
  },
  {
   "cell_type": "markdown",
   "id": "8c99d370",
   "metadata": {},
   "source": [
    "### Bullet List:\n",
    "- item 1\n",
    "- item 2\n",
    "- item 3\n",
    "\n",
    "### Numbered List:\n",
    "1. item 1\n",
    "2. item 2\n",
    "3. item 3\n"
   ]
  },
  {
   "cell_type": "markdown",
   "id": "dd300ee4",
   "metadata": {},
   "source": [
    "**Math**"
   ]
  },
  {
   "cell_type": "markdown",
   "id": "cbf52587",
   "metadata": {},
   "source": [
    "Basic math equations:\n",
    "$$\n",
    "\\begin{align}\n",
    "    x + y = 4 \\\\\n",
    "    2x  = 2 \\\\\n",
    "    x = 1 \\\\\n",
    "    y = 3 \\\\\n",
    "\\end{align}\n",
    "\n"
   ]
  },
  {
   "cell_type": "markdown",
   "id": "493984b6",
   "metadata": {},
   "source": [
    "**Boxed & Colored Equations**"
   ]
  },
  {
   "cell_type": "markdown",
   "id": "f597d173",
   "metadata": {},
   "source": [
    "Basic math equations in blue:\n",
    "$$\n",
    "\n",
    "    \\color{dodgerblue}{ \n",
    "        x + y = 4 \\\\\n",
    "    } \\\\\n",
    "    \\color{dodgerblue}{ \n",
    "        2x  = 2 \\\\\n",
    "    } \\\\\n",
    "    \\color{red}{ \n",
    "        x = 1 \\\\ \n",
    "    } \\\\\n",
    "    \n",
    "    \\color{purple}{ \n",
    "        y = 3 \\\\ \n",
    "    }\n",
    "    \n"
   ]
  },
  {
   "cell_type": "markdown",
   "id": "365246bd",
   "metadata": {},
   "source": [
    "**Math Macros**"
   ]
  },
  {
   "cell_type": "markdown",
   "metadata": {},
   "source": [
    "$$\n",
    "\\newcommand{\\newsum}[2]{\\sum_{i=#1} ^{#2}}\n",
    "\\newsum{0}{m} a_1\n",
    "$$\n",
    "I took this code from the lecture from the professor"
   ]
  },
  {
   "cell_type": "markdown",
   "id": "c3d4b14f",
   "metadata": {},
   "source": [
    "---"
   ]
  },
  {
   "cell_type": "markdown",
   "id": "9e527d83",
   "metadata": {},
   "source": [
    "## Thu, Apr 4th"
   ]
  },
  {
   "cell_type": "markdown",
   "id": "ad2d56af",
   "metadata": {},
   "source": [
    "**Vectors**"
   ]
  },
  {
   "cell_type": "markdown",
   "id": "0d4fef11",
   "metadata": {},
   "source": [
    "Vector is an element that lives in a high dimmension space and its components represent the  dimension and space.\n",
    "\n",
    "A vector v can be written as such:\n",
    "$$\n",
    "v = (v_1, v_2, v_3, v_n)^T\n",
    "$$"
   ]
  },
  {
   "cell_type": "markdown",
   "id": "16f361b2",
   "metadata": {},
   "source": [
    "Given two vectors v and w:\n",
    "$$\n",
    "v = (v_1, v_2, v_3, v_n)^T \\\\\n",
    "w = (w_1, v_2, w_3, w_n)^T\n",
    "$$\n",
    "If you add v and w together you get such:\n",
    "$$\n",
    "v + w = (v_1 + w_1, v_2 + w_2, v_n + w_n )^t\n",
    "$$"
   ]
  },
  {
   "cell_type": "markdown",
   "id": "215464eb",
   "metadata": {},
   "source": [
    "When you multiply a vector by a scalar the magnitude of the vector changes by the magnitude of the scalar."
   ]
  },
  {
   "cell_type": "markdown",
   "id": "be1dd332",
   "metadata": {},
   "source": [
    "You can \"multiply\" two vectors in two different ways:\n",
    "\n",
    "1. Dot Product\n",
    "2. Cross product"
   ]
  },
  {
   "cell_type": "markdown",
   "id": "58b01417",
   "metadata": {},
   "source": [
    "**Matrices**"
   ]
  },
  {
   "cell_type": "markdown",
   "id": "39642289",
   "metadata": {},
   "source": [
    "Intuitively, a matrix essentially an extention of a vector but with different transformations into any rectangular array of real numbers."
   ]
  },
  {
   "cell_type": "markdown",
   "id": "c15cfbc5",
   "metadata": {},
   "source": [
    "\n",
    "\n",
    "This is a 3x3 matrix:\n",
    "\n",
    "\\begin{bmatrix}\n",
    "a & b & c \\\\\n",
    "d & e & f \\\\\n",
    "g & h & i \\\\\n",
    "\\end{bmatrix}\n",
    "\n",
    "\n"
   ]
  },
  {
   "cell_type": "markdown",
   "id": "95f7007f",
   "metadata": {},
   "source": [
    "When a matrix acts on a vector, you get ..."
   ]
  },
  {
   "cell_type": "code",
   "execution_count": 7,
   "id": "27cef97f",
   "metadata": {},
   "outputs": [
    {
     "data": {
      "text/plain": [
       "array([11, 17])"
      ]
     },
     "execution_count": 7,
     "metadata": {},
     "output_type": "execute_result"
    }
   ],
   "source": [
    "import numpy as np\n",
    "\n",
    "# Creating vectors and matrices\n",
    "vector = np.array([1, 2])\n",
    "matrix = np.array([[3, 4], [5, 6]])\n",
    "\n",
    "# Calculating the product\n",
    "product = np.dot(matrix, vector)\n",
    "product"
   ]
  },
  {
   "cell_type": "markdown",
   "id": "b0659f26",
   "metadata": {},
   "source": [
    "**Basic linear algebra operations:**\n",
    "1. Norm: ...\n",
    "2. Dot product: ...\n",
    "4. Matrix transpose: ...\n",
    "5. Matrix inverse: ..."
   ]
  },
  {
   "cell_type": "markdown",
   "id": "334f2192",
   "metadata": {},
   "source": [
    "**Slightly more advanced linear algebra operations**"
   ]
  },
  {
   "cell_type": "markdown",
   "id": "3d968462",
   "metadata": {},
   "source": [
    "If we're given a system of equations, for example, \n",
    "\n",
    "$$\n",
    "\\begin{align*}\n",
    "2x + 3y &= 5 \\\\\n",
    "4x + 5y &= 6\n",
    "\\end{align*}\n",
    "$$\n",
    "\n",
    "We can represent it in the matrix-vector form as ..."
   ]
  },
  {
   "cell_type": "markdown",
   "id": "60b7c47c",
   "metadata": {},
   "source": [
    "\\begin{equation*}\n",
    "\\begin{bmatrix}\n",
    "2 & 3 \\\\\n",
    "4 & 5\n",
    "\\end{bmatrix}\n",
    "\\begin{bmatrix}\n",
    "x \\\\\n",
    "y\n",
    "\\end{bmatrix}\n",
    "=\n",
    "\\begin{bmatrix}\n",
    "5 \\\\\n",
    "6\n",
    "\\end{bmatrix}\n",
    "\\end{equation*}\n"
   ]
  },
  {
   "cell_type": "markdown",
   "id": "5be358a9",
   "metadata": {},
   "source": [
    "The solution for the unknown variables, $(x, y)$ is given by ..."
   ]
  },
  {
   "cell_type": "markdown",
   "id": "c27b6ae2",
   "metadata": {},
   "source": [
    "$$\n",
    "x = -3.5\\\\\n",
    "y = 4\n",
    "$$\n"
   ]
  },
  {
   "cell_type": "markdown",
   "id": "f07d95f8",
   "metadata": {},
   "source": [
    "In code, we can do this as follows: ..."
   ]
  },
  {
   "cell_type": "code",
   "execution_count": 6,
   "id": "17da9f42",
   "metadata": {},
   "outputs": [
    {
     "name": "stdout",
     "output_type": "stream",
     "text": [
      "[-3.5  4. ]\n"
     ]
    }
   ],
   "source": [
    "# Solving a system of linear equations\n",
    "import numpy as np\n",
    "A = np.array([[2, 3], [4, 5]])\n",
    "B = np.array([5, 6])\n",
    "\n",
    "solution = np.linalg.solve(A, B)\n",
    "print(solution)"
   ]
  },
  {
   "cell_type": "markdown",
   "id": "f14cb893",
   "metadata": {},
   "source": [
    "---"
   ]
  }
 ],
 "metadata": {
  "interpreter": {
   "hash": "aee8b7b246df8f9039afb4144a1f6fd8d2ca17a180786b69acc140d282b71a49"
  },
  "kernelspec": {
   "display_name": "Python 3.12.2 64-bit",
   "language": "python",
   "name": "python3"
  },
  "language_info": {
   "codemirror_mode": {
    "name": "ipython",
    "version": 3
   },
   "file_extension": ".py",
   "mimetype": "text/x-python",
   "name": "python",
   "nbconvert_exporter": "python",
   "pygments_lexer": "ipython3",
   "version": "3.12.2"
  }
 },
 "nbformat": 4,
 "nbformat_minor": 5
}
